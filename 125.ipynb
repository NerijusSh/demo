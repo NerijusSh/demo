{
  "nbformat": 4,
  "nbformat_minor": 0,
  "metadata": {
    "kernelspec": {
      "display_name": "Python 3",
      "language": "python",
      "name": "python3"
    },
    "language_info": {
      "codemirror_mode": {
        "name": "ipython",
        "version": 3
      },
      "file_extension": ".py",
      "mimetype": "text/x-python",
      "name": "python",
      "nbconvert_exporter": "python",
      "pygments_lexer": "ipython3",
      "version": "3.7.7"
    },
    "colab": {
      "name": "125.ipynb",
      "provenance": [],
      "include_colab_link": true
    }
  },
  "cells": [
    {
      "cell_type": "markdown",
      "metadata": {
        "id": "view-in-github",
        "colab_type": "text"
      },
      "source": [
        "<a href=\"https://colab.research.google.com/github/NerijusSh/demo/blob/main/125.ipynb\" target=\"_parent\"><img src=\"https://colab.research.google.com/assets/colab-badge.svg\" alt=\"Open In Colab\"/></a>"
      ]
    },
    {
      "cell_type": "markdown",
      "metadata": {
        "id": "iWfCgPkj1EKm"
      },
      "source": [
        "# Module 1: Data Wrangling with Python\n",
        "## Sprint 2: Data Processing with NumPy and Pandas\n",
        "## Part 5: Top 50 Spotify Tracks of 2020\n"
      ]
    },
    {
      "cell_type": "markdown",
      "metadata": {
        "id": "k78Vpb-g1EKs"
      },
      "source": [
        "## About this Part\n",
        "\n",
        "Congrats!\n",
        "You completed almost all assignments and tasks of this Sprint.\n",
        "You did a great job.\n",
        "In this Part, you will need to prove all the skills that you learned.\n",
        "As the final assignment of this Sprint, you will analyze the Top 50 Spotify Tracks 2020 dataset.\n",
        "To complete this task, you will have to apply all that you have learned about Data Analysis, Linear Algebra, NumPy, and Pandas.\n",
        "\n",
        "## Context\n",
        "\n",
        "Imagine that you are a data analyst working for Spotify.\n",
        "Your team is responsible for content analysis, and in this quarter, you have decided to analyze Spotify's top hits and quantify what makes a hit song.\n",
        "Your team's product manager has many ideas and prepared a list of questions (requirements) that she wants you to get answers to.\n",
        "After reviewing the list of over 20 questions, you are not in a good mood - you'll have to work a couple of days to get all the answers.\n",
        "Luckily, a few days ago, an experienced data scientist working in your team queried the top 50 tracks for her machine learning project and agreed to share the data with you.\n",
        "This is a significant help - your SQL skills are not too sharp yet, and you don't yet know where to find all the relevant tables in your data warehouse.\n",
        "With this dataset, you are confident that you'll be able to answer all your PM's questions and maybe even look into some things that she didn't ask for.\n",
        "\n",
        "## Objectives for this Part\n",
        "\n",
        "- Practice working with data from Kaggle.\n",
        "- Practice performing basic EDA.\n",
        "- Practice reading data, performing queries and filtering data using Pandas.\n",
        "\n",
        "## Requirements\n",
        "\n",
        "- Download the data from [Spotify Top 50 Tracks of 2020 dataset](https://www.kaggle.com/atillacolak/top-50-spotify-tracks-2020).\n",
        "- Load the data using Pandas.\n",
        "- Perform data cleaning by:\n",
        "  - Handling missing values.\n",
        "  - Removing duplicate samples and features.\n",
        "  - Treating the outliers.\n",
        "- Perform exploratory data analysis. Your analysis should provide answers to these questions:\n",
        "  - How many observations are there in this dataset?\n",
        "  - How many features this dataset has?\n",
        "  - Which of the features are categorical?\n",
        "  - Which of the features are numeric?\n",
        "  - Are there any artists that have more than 1 popular track? If yes, which and how many?\n",
        "  - Who was the most popular artist?\n",
        "  - How many artists in total have their songs in the top 50?\n",
        "  - Are there any albums that have more than 1 popular track? If yes, which and how many?\n",
        "  - How many albums in total have their songs in the top 50?\n",
        "  - Which tracks have a danceability score above 0.7?\n",
        "  - Which tracks have a danceability score below 0.4?\n",
        "  - Which tracks have their loudness above -5?\n",
        "  - Which tracks have their loudness below -8?\n",
        "  - Which track is the longest?\n",
        "  - Which track is the shortest?\n",
        "  - Which genre is the most popular?\n",
        "  - Which genres have just one song on the top 50?\n",
        "  - How many genres in total are represented in the top 50?\n",
        "  - Which features are strongly positively correlated?\n",
        "  - Which features are strongly negatively correlated?\n",
        "  - Which features are not correlated?\n",
        "- How does the danceability score compare between Pop, Hip-Hop/Rap, Dance/Electronic, and Alternative/Indie genres?\n",
        "- How does the loudness score compare between Pop, Hip-Hop/Rap, Dance/Electronic, and Alternative/Indie genres?\n",
        "- How does the acousticness score compare between Pop, Hip-Hop/Rap, Dance/Electronic, and Alternative/Indie genres?\n",
        "- Provide clear explanations in your notebook. Your explanations should inform the reader what you are trying to achieve, what results you got, and what these results mean.\n",
        "- Provide suggestions about how your analysis can be improved.\n",
        "\n",
        "## Evaluation Criteria\n",
        "\n",
        "- Adherence to the requirements. How well did you meet the requirements?\n",
        "- Code quality. Was your code well-structured? Did you use the correct levels of abstraction? Did you remove commented-out and unused code? Did you adhere to the PEP8?\n",
        "- Code performance. Did you use suitable algorithms and data structures to solve the problems?\n",
        "\n",
        "## Sample Correction Questions\n",
        "\n",
        "During a correction, you may get asked questions that test your understanding of covered topics.\n",
        "\n",
        "- What advantages do NumPy arrays have over Python lists?\n",
        "- What makes computation on NumPy arrays so fast?\n",
        "- What are the rules of broadcasting?\n",
        "- What advantages do Pandas have over NumPy?\n",
        "- What is a DataFrame in Pandas?\n"
      ]
    },
    {
      "cell_type": "code",
      "metadata": {
        "colab": {
          "base_uri": "https://localhost:8080/"
        },
        "id": "DgkWQPbg1zIx",
        "outputId": "89e6c679-c0c1-4c9c-afd1-ba55584b0d83"
      },
      "source": [
        "pip install kaggle"
      ],
      "execution_count": null,
      "outputs": [
        {
          "output_type": "stream",
          "name": "stdout",
          "text": [
            "Requirement already satisfied: kaggle in /usr/local/lib/python3.7/dist-packages (1.5.12)\n",
            "Requirement already satisfied: six>=1.10 in /usr/local/lib/python3.7/dist-packages (from kaggle) (1.15.0)\n",
            "Requirement already satisfied: urllib3 in /usr/local/lib/python3.7/dist-packages (from kaggle) (1.24.3)\n",
            "Requirement already satisfied: python-dateutil in /usr/local/lib/python3.7/dist-packages (from kaggle) (2.8.2)\n",
            "Requirement already satisfied: python-slugify in /usr/local/lib/python3.7/dist-packages (from kaggle) (5.0.2)\n",
            "Requirement already satisfied: requests in /usr/local/lib/python3.7/dist-packages (from kaggle) (2.23.0)\n",
            "Requirement already satisfied: certifi in /usr/local/lib/python3.7/dist-packages (from kaggle) (2021.5.30)\n",
            "Requirement already satisfied: tqdm in /usr/local/lib/python3.7/dist-packages (from kaggle) (4.62.3)\n",
            "Requirement already satisfied: text-unidecode>=1.3 in /usr/local/lib/python3.7/dist-packages (from python-slugify->kaggle) (1.3)\n",
            "Requirement already satisfied: idna<3,>=2.5 in /usr/local/lib/python3.7/dist-packages (from requests->kaggle) (2.10)\n",
            "Requirement already satisfied: chardet<4,>=3.0.2 in /usr/local/lib/python3.7/dist-packages (from requests->kaggle) (3.0.4)\n"
          ]
        }
      ]
    },
    {
      "cell_type": "code",
      "metadata": {
        "id": "nfKhSipO10qj"
      },
      "source": [
        "! cp kaggle.json ~/.kaggle/"
      ],
      "execution_count": null,
      "outputs": []
    },
    {
      "cell_type": "code",
      "metadata": {
        "id": "b8IDJGq413Vq"
      },
      "source": [
        "! chmod 600 ~/.kaggle/kaggle.json"
      ],
      "execution_count": null,
      "outputs": []
    },
    {
      "cell_type": "code",
      "metadata": {
        "colab": {
          "base_uri": "https://localhost:8080/"
        },
        "id": "ocvNjQWz6nRG",
        "outputId": "8ef20765-858a-4204-8f5a-864055d6818a"
      },
      "source": [
        "! kaggle datasets download -d atillacolak/top-50-spotify-tracks-2020"
      ],
      "execution_count": null,
      "outputs": [
        {
          "output_type": "stream",
          "name": "stdout",
          "text": [
            "top-50-spotify-tracks-2020.zip: Skipping, found more recently modified local copy (use --force to force download)\n"
          ]
        }
      ]
    },
    {
      "cell_type": "code",
      "metadata": {
        "colab": {
          "base_uri": "https://localhost:8080/"
        },
        "id": "3DIiPPsm6v4f",
        "outputId": "1144c995-7ae0-4ff3-9ae9-52b79d533cc9"
      },
      "source": [
        "!unzip top-50-spotify-tracks-2020.zip"
      ],
      "execution_count": null,
      "outputs": [
        {
          "output_type": "stream",
          "name": "stdout",
          "text": [
            "Archive:  top-50-spotify-tracks-2020.zip\n",
            "replace spotifytoptracks.csv? [y]es, [n]o, [A]ll, [N]one, [r]ename: y\n",
            "  inflating: spotifytoptracks.csv    \n"
          ]
        }
      ]
    },
    {
      "cell_type": "markdown",
      "metadata": {
        "id": "8f9aWvis9srH"
      },
      "source": [
        "### Reading the data"
      ]
    },
    {
      "cell_type": "code",
      "metadata": {
        "id": "xG84s9PC7i16"
      },
      "source": [
        "import numpy as np\n",
        "import pandas as pd\n",
        "import seaborn as sns\n",
        "import matplotlib.pyplot as plt\n",
        "\n",
        "%matplotlib inline"
      ],
      "execution_count": null,
      "outputs": []
    },
    {
      "cell_type": "code",
      "metadata": {
        "id": "i0BuktlQ7rPN"
      },
      "source": [
        "spotify_df = pd.read_csv('spotifytoptracks.csv', index_col=0)"
      ],
      "execution_count": null,
      "outputs": []
    },
    {
      "cell_type": "markdown",
      "metadata": {
        "id": "Uf5yhCxZ799q"
      },
      "source": [
        "### Data cleaning"
      ]
    },
    {
      "cell_type": "markdown",
      "metadata": {
        "id": "s74-sROzryfA"
      },
      "source": [
        "#### Removing duplicates"
      ]
    },
    {
      "cell_type": "code",
      "metadata": {
        "id": "StLIpoc08DXO"
      },
      "source": [
        "spotify_df['track_name'].drop_duplicates(inplace=True)"
      ],
      "execution_count": null,
      "outputs": []
    },
    {
      "cell_type": "code",
      "metadata": {
        "id": "yvThET7C_dXZ"
      },
      "source": [
        "spotify_df = spotify_df.loc[:,~spotify_df.columns.duplicated()]"
      ],
      "execution_count": null,
      "outputs": []
    },
    {
      "cell_type": "markdown",
      "metadata": {
        "id": "eoq-5MTJwl62"
      },
      "source": [
        "Droping duplicate tracks and duplicate features if there are any."
      ]
    },
    {
      "cell_type": "markdown",
      "metadata": {
        "id": "lLhpi7zX-MzR"
      },
      "source": [
        "#### Handling missing values."
      ]
    },
    {
      "cell_type": "code",
      "metadata": {
        "colab": {
          "base_uri": "https://localhost:8080/",
          "height": 374
        },
        "id": "CSPiiYqL8G5P",
        "outputId": "e7b5a881-7ab0-4101-ad68-f33a6ec725ab"
      },
      "source": [
        "spotify_df.fillna(0).head(5)"
      ],
      "execution_count": null,
      "outputs": [
        {
          "output_type": "execute_result",
          "data": {
            "text/html": [
              "<div>\n",
              "<style scoped>\n",
              "    .dataframe tbody tr th:only-of-type {\n",
              "        vertical-align: middle;\n",
              "    }\n",
              "\n",
              "    .dataframe tbody tr th {\n",
              "        vertical-align: top;\n",
              "    }\n",
              "\n",
              "    .dataframe thead th {\n",
              "        text-align: right;\n",
              "    }\n",
              "</style>\n",
              "<table border=\"1\" class=\"dataframe\">\n",
              "  <thead>\n",
              "    <tr style=\"text-align: right;\">\n",
              "      <th></th>\n",
              "      <th>artist</th>\n",
              "      <th>album</th>\n",
              "      <th>track_name</th>\n",
              "      <th>track_id</th>\n",
              "      <th>energy</th>\n",
              "      <th>danceability</th>\n",
              "      <th>key</th>\n",
              "      <th>loudness</th>\n",
              "      <th>acousticness</th>\n",
              "      <th>speechiness</th>\n",
              "      <th>instrumentalness</th>\n",
              "      <th>liveness</th>\n",
              "      <th>valence</th>\n",
              "      <th>tempo</th>\n",
              "      <th>duration_ms</th>\n",
              "      <th>genre</th>\n",
              "    </tr>\n",
              "  </thead>\n",
              "  <tbody>\n",
              "    <tr>\n",
              "      <th>0</th>\n",
              "      <td>The Weeknd</td>\n",
              "      <td>After Hours</td>\n",
              "      <td>Blinding Lights</td>\n",
              "      <td>0VjIjW4GlUZAMYd2vXMi3b</td>\n",
              "      <td>0.730</td>\n",
              "      <td>0.514</td>\n",
              "      <td>1</td>\n",
              "      <td>-5.934</td>\n",
              "      <td>0.00146</td>\n",
              "      <td>0.0598</td>\n",
              "      <td>0.000095</td>\n",
              "      <td>0.0897</td>\n",
              "      <td>0.334</td>\n",
              "      <td>171.005</td>\n",
              "      <td>200040</td>\n",
              "      <td>R&amp;B/Soul</td>\n",
              "    </tr>\n",
              "    <tr>\n",
              "      <th>1</th>\n",
              "      <td>Tones And I</td>\n",
              "      <td>Dance Monkey</td>\n",
              "      <td>Dance Monkey</td>\n",
              "      <td>1rgnBhdG2JDFTbYkYRZAku</td>\n",
              "      <td>0.593</td>\n",
              "      <td>0.825</td>\n",
              "      <td>6</td>\n",
              "      <td>-6.401</td>\n",
              "      <td>0.68800</td>\n",
              "      <td>0.0988</td>\n",
              "      <td>0.000161</td>\n",
              "      <td>0.1700</td>\n",
              "      <td>0.540</td>\n",
              "      <td>98.078</td>\n",
              "      <td>209755</td>\n",
              "      <td>Alternative/Indie</td>\n",
              "    </tr>\n",
              "    <tr>\n",
              "      <th>2</th>\n",
              "      <td>Roddy Ricch</td>\n",
              "      <td>Please Excuse Me For Being Antisocial</td>\n",
              "      <td>The Box</td>\n",
              "      <td>0nbXyq5TXYPCO7pr3N8S4I</td>\n",
              "      <td>0.586</td>\n",
              "      <td>0.896</td>\n",
              "      <td>10</td>\n",
              "      <td>-6.687</td>\n",
              "      <td>0.10400</td>\n",
              "      <td>0.0559</td>\n",
              "      <td>0.000000</td>\n",
              "      <td>0.7900</td>\n",
              "      <td>0.642</td>\n",
              "      <td>116.971</td>\n",
              "      <td>196653</td>\n",
              "      <td>Hip-Hop/Rap</td>\n",
              "    </tr>\n",
              "    <tr>\n",
              "      <th>3</th>\n",
              "      <td>SAINt JHN</td>\n",
              "      <td>Roses (Imanbek Remix)</td>\n",
              "      <td>Roses - Imanbek Remix</td>\n",
              "      <td>2Wo6QQD1KMDWeFkkjLqwx5</td>\n",
              "      <td>0.721</td>\n",
              "      <td>0.785</td>\n",
              "      <td>8</td>\n",
              "      <td>-5.457</td>\n",
              "      <td>0.01490</td>\n",
              "      <td>0.0506</td>\n",
              "      <td>0.004320</td>\n",
              "      <td>0.2850</td>\n",
              "      <td>0.894</td>\n",
              "      <td>121.962</td>\n",
              "      <td>176219</td>\n",
              "      <td>Dance/Electronic</td>\n",
              "    </tr>\n",
              "    <tr>\n",
              "      <th>4</th>\n",
              "      <td>Dua Lipa</td>\n",
              "      <td>Future Nostalgia</td>\n",
              "      <td>Don't Start Now</td>\n",
              "      <td>3PfIrDoz19wz7qK7tYeu62</td>\n",
              "      <td>0.793</td>\n",
              "      <td>0.793</td>\n",
              "      <td>11</td>\n",
              "      <td>-4.521</td>\n",
              "      <td>0.01230</td>\n",
              "      <td>0.0830</td>\n",
              "      <td>0.000000</td>\n",
              "      <td>0.0951</td>\n",
              "      <td>0.679</td>\n",
              "      <td>123.950</td>\n",
              "      <td>183290</td>\n",
              "      <td>Nu-disco</td>\n",
              "    </tr>\n",
              "  </tbody>\n",
              "</table>\n",
              "</div>"
            ],
            "text/plain": [
              "        artist  ...              genre\n",
              "0   The Weeknd  ...           R&B/Soul\n",
              "1  Tones And I  ...  Alternative/Indie\n",
              "2  Roddy Ricch  ...        Hip-Hop/Rap\n",
              "3    SAINt JHN  ...   Dance/Electronic\n",
              "4     Dua Lipa  ...           Nu-disco\n",
              "\n",
              "[5 rows x 16 columns]"
            ]
          },
          "metadata": {},
          "execution_count": 60
        }
      ]
    },
    {
      "cell_type": "markdown",
      "metadata": {
        "id": "qZE_Tjt58rn1"
      },
      "source": [
        "#### Dealing with the outliers"
      ]
    },
    {
      "cell_type": "code",
      "metadata": {
        "id": "4zhvU73N8Jze"
      },
      "source": [
        "relevant_columns = ['energy','danceability','loudness','acousticness',\n",
        "                    'speechiness','liveness','valence','tempo']"
      ],
      "execution_count": null,
      "outputs": []
    },
    {
      "cell_type": "code",
      "metadata": {
        "id": "lMJ9G_TJ8Nzy"
      },
      "source": [
        "\"\"\"Finds outliers and replaces them with values that make sense\"\"\"\n",
        "for col in spotify_df[relevant_columns]:\n",
        "    data = sorted(spotify_df[col])\n",
        "    tenth_percentile = np.percentile(data, 10)\n",
        "    ninetieth_percentile = np.percentile(data, 90)\n",
        "    q1 = np.percentile(data, 25)\n",
        "    q3 = np.percentile(data, 75)   \n",
        "    IQR = q3-q1\n",
        "    lower_bound = q1-(1.5*IQR)\n",
        "    upper_bound = q3+(1.5*IQR)\n",
        "    for value in spotify_df[col]:\n",
        "        if value<lower_bound:\n",
        "            spotify_df[col].replace(value, tenth_percentile, inplace=True)\n",
        "        if value>upper_bound:\n",
        "            spotify_df[col].replace(value, ninetieth_percentile, inplace=True)"
      ],
      "execution_count": null,
      "outputs": []
    },
    {
      "cell_type": "markdown",
      "metadata": {
        "id": "Jv7znM1rprwy"
      },
      "source": [
        "### Exploratory data analysis"
      ]
    },
    {
      "cell_type": "markdown",
      "metadata": {
        "id": "1lODvMtf_wpl"
      },
      "source": [
        "- How many observations are there in this dataset?"
      ]
    },
    {
      "cell_type": "code",
      "metadata": {
        "colab": {
          "base_uri": "https://localhost:8080/"
        },
        "id": "cBgLT5VL_yLJ",
        "outputId": "036c662f-14e7-4c9a-ba52-c4e43c4526cf"
      },
      "source": [
        "observations = len(spotify_df.index)\n",
        "observations"
      ],
      "execution_count": null,
      "outputs": [
        {
          "output_type": "execute_result",
          "data": {
            "text/plain": [
              "50"
            ]
          },
          "metadata": {},
          "execution_count": 63
        }
      ]
    },
    {
      "cell_type": "markdown",
      "metadata": {
        "id": "Xia9PhNe_5sm"
      },
      "source": [
        "- How many features this dataset has?"
      ]
    },
    {
      "cell_type": "code",
      "metadata": {
        "colab": {
          "base_uri": "https://localhost:8080/"
        },
        "id": "7902t_Ur_9GX",
        "outputId": "ca0b2ea7-bb2e-40b4-f086-49eb15154903"
      },
      "source": [
        "features = len(spotify_df.columns)\n",
        "features"
      ],
      "execution_count": null,
      "outputs": [
        {
          "output_type": "execute_result",
          "data": {
            "text/plain": [
              "16"
            ]
          },
          "metadata": {},
          "execution_count": 64
        }
      ]
    },
    {
      "cell_type": "markdown",
      "metadata": {
        "id": "-PbYR1W6AAon"
      },
      "source": [
        "- Which of the features are numeric?"
      ]
    },
    {
      "cell_type": "code",
      "metadata": {
        "colab": {
          "base_uri": "https://localhost:8080/"
        },
        "id": "ZRnwYuwVABJH",
        "outputId": "22db19a8-4b8a-48ee-e572-e43699a93fd5"
      },
      "source": [
        "numeric_features = list(spotify_df._get_numeric_data().columns)\n",
        "numeric_features"
      ],
      "execution_count": null,
      "outputs": [
        {
          "output_type": "execute_result",
          "data": {
            "text/plain": [
              "['energy',\n",
              " 'danceability',\n",
              " 'key',\n",
              " 'loudness',\n",
              " 'acousticness',\n",
              " 'speechiness',\n",
              " 'instrumentalness',\n",
              " 'liveness',\n",
              " 'valence',\n",
              " 'tempo',\n",
              " 'duration_ms']"
            ]
          },
          "metadata": {},
          "execution_count": 65
        }
      ]
    },
    {
      "cell_type": "markdown",
      "metadata": {
        "id": "fhUD2rnsALQs"
      },
      "source": [
        "- Which of the features are categorical?"
      ]
    },
    {
      "cell_type": "code",
      "metadata": {
        "colab": {
          "base_uri": "https://localhost:8080/"
        },
        "id": "tsoydQkrAIx9",
        "outputId": "dd9366b0-98e0-4009-d473-c141d27d514d"
      },
      "source": [
        "categorical_features = list(set(spotify_df.columns)-set(numeric_features))\n",
        "categorical_features"
      ],
      "execution_count": null,
      "outputs": [
        {
          "output_type": "execute_result",
          "data": {
            "text/plain": [
              "['artist', 'genre', 'album', 'track_id', 'track_name']"
            ]
          },
          "metadata": {},
          "execution_count": 66
        }
      ]
    },
    {
      "cell_type": "markdown",
      "metadata": {
        "id": "F8eEtmkyAMVP"
      },
      "source": [
        "- Are there any artists that have more than 1 popular track? If yes, which and how many?"
      ]
    },
    {
      "cell_type": "code",
      "metadata": {
        "colab": {
          "base_uri": "https://localhost:8080/"
        },
        "id": "0bL7hjWUAOeT",
        "outputId": "e8fcd604-d401-44dc-b7d5-fad87d898d9e"
      },
      "source": [
        "popular_artists = spotify_df[spotify_df.duplicated(['artist'], keep = False)]\n",
        "popular_artists['artist'].value_counts()"
      ],
      "execution_count": null,
      "outputs": [
        {
          "output_type": "execute_result",
          "data": {
            "text/plain": [
              "Billie Eilish    3\n",
              "Dua Lipa         3\n",
              "Travis Scott     3\n",
              "Harry Styles     2\n",
              "Lewis Capaldi    2\n",
              "Post Malone      2\n",
              "Justin Bieber    2\n",
              "Name: artist, dtype: int64"
            ]
          },
          "metadata": {},
          "execution_count": 67
        }
      ]
    },
    {
      "cell_type": "markdown",
      "metadata": {
        "id": "WaMOTbJXBAGw"
      },
      "source": [
        "- Who was the most popular artist?"
      ]
    },
    {
      "cell_type": "code",
      "metadata": {
        "colab": {
          "base_uri": "https://localhost:8080/",
          "height": 35
        },
        "id": "rcJYKoUaAYE6",
        "outputId": "bdd536c1-7a91-4885-861a-ecd1a40147b1"
      },
      "source": [
        "most_popular_artist = spotify_df.iloc[0]['artist']\n",
        "most_popular_artist"
      ],
      "execution_count": null,
      "outputs": [
        {
          "output_type": "execute_result",
          "data": {
            "application/vnd.google.colaboratory.intrinsic+json": {
              "type": "string"
            },
            "text/plain": [
              "'The Weeknd'"
            ]
          },
          "metadata": {},
          "execution_count": 68
        }
      ]
    },
    {
      "cell_type": "markdown",
      "metadata": {
        "id": "jSNPwNqpBBbl"
      },
      "source": [
        "- How many artists in total have their songs in the top 50?"
      ]
    },
    {
      "cell_type": "code",
      "metadata": {
        "colab": {
          "base_uri": "https://localhost:8080/"
        },
        "id": "pBx6mX_0BCp3",
        "outputId": "b694fcd8-d9e2-4bba-8f5c-1bb36ad850c6"
      },
      "source": [
        "amount_of_artists = spotify_df['artist'].nunique()\n",
        "amount_of_artists"
      ],
      "execution_count": null,
      "outputs": [
        {
          "output_type": "execute_result",
          "data": {
            "text/plain": [
              "40"
            ]
          },
          "metadata": {},
          "execution_count": 69
        }
      ]
    },
    {
      "cell_type": "markdown",
      "metadata": {
        "id": "0l9KkfCcBFj0"
      },
      "source": [
        "- Are there any albums that have more than 1 popular track? If yes, which and how many?"
      ]
    },
    {
      "cell_type": "code",
      "metadata": {
        "colab": {
          "base_uri": "https://localhost:8080/"
        },
        "id": "HimRIAFGBG3E",
        "outputId": "1513bdfa-8f03-4217-8fae-ff4fcff6f933"
      },
      "source": [
        "popular_albums = spotify_df[spotify_df.duplicated(['album'], keep = False)]\n",
        "popular_albums['album'].value_counts()"
      ],
      "execution_count": null,
      "outputs": [
        {
          "output_type": "execute_result",
          "data": {
            "text/plain": [
              "Future Nostalgia        3\n",
              "Changes                 2\n",
              "Hollywood's Bleeding    2\n",
              "Fine Line               2\n",
              "Name: album, dtype: int64"
            ]
          },
          "metadata": {},
          "execution_count": 70
        }
      ]
    },
    {
      "cell_type": "markdown",
      "metadata": {
        "id": "0zccbkeiBLWk"
      },
      "source": [
        "- How many albums in total have their songs in the top 50?"
      ]
    },
    {
      "cell_type": "code",
      "metadata": {
        "colab": {
          "base_uri": "https://localhost:8080/"
        },
        "id": "a3v6J8YUBLvf",
        "outputId": "12c7f8f7-41eb-4baa-876f-17586a1e00ce"
      },
      "source": [
        "amount_of_albums = spotify_df['album'].nunique()\n",
        "amount_of_albums"
      ],
      "execution_count": null,
      "outputs": [
        {
          "output_type": "execute_result",
          "data": {
            "text/plain": [
              "45"
            ]
          },
          "metadata": {},
          "execution_count": 71
        }
      ]
    },
    {
      "cell_type": "markdown",
      "metadata": {
        "id": "JSkIecPqBQcL"
      },
      "source": [
        "- Which tracks have a danceability score above 0.7?"
      ]
    },
    {
      "cell_type": "code",
      "metadata": {
        "colab": {
          "base_uri": "https://localhost:8080/"
        },
        "id": "EL2epCrcBQuN",
        "outputId": "9abee65d-dd8e-4d19-a7e6-2e51adef5489"
      },
      "source": [
        "spotify_df['track_name'].loc[spotify_df['danceability']>0.7].to_list()"
      ],
      "execution_count": null,
      "outputs": [
        {
          "output_type": "execute_result",
          "data": {
            "text/plain": [
              "['Dance Monkey',\n",
              " 'The Box',\n",
              " 'Roses - Imanbek Remix',\n",
              " \"Don't Start Now\",\n",
              " 'ROCKSTAR (feat. Roddy Ricch)',\n",
              " 'death bed (coffee for your head)',\n",
              " 'Falling',\n",
              " 'Tusa',\n",
              " 'Blueberry Faygo',\n",
              " 'Intentions (feat. Quavo)',\n",
              " 'Toosie Slide',\n",
              " 'Say So',\n",
              " 'Memories',\n",
              " 'Life Is Good (feat. Drake)',\n",
              " 'Savage Love (Laxed - Siren Beat)',\n",
              " 'Breaking Me',\n",
              " 'everything i wanted',\n",
              " 'Señorita',\n",
              " 'bad guy',\n",
              " 'WAP (feat. Megan Thee Stallion)',\n",
              " 'Sunday Best',\n",
              " 'Godzilla (feat. Juice WRLD)',\n",
              " 'Break My Heart',\n",
              " 'Dynamite',\n",
              " 'Supalonely (feat. Gus Dapperton)',\n",
              " 'Sunflower - Spider-Man: Into the Spider-Verse',\n",
              " 'Hawái',\n",
              " 'Ride It',\n",
              " 'goosebumps',\n",
              " 'RITMO (Bad Boys For Life)',\n",
              " 'THE SCOTTS',\n",
              " 'SICKO MODE']"
            ]
          },
          "metadata": {},
          "execution_count": 72
        }
      ]
    },
    {
      "cell_type": "markdown",
      "metadata": {
        "id": "ra4hSgO_BWld"
      },
      "source": [
        "- Which tracks have a danceability score below 0.4?"
      ]
    },
    {
      "cell_type": "code",
      "metadata": {
        "colab": {
          "base_uri": "https://localhost:8080/"
        },
        "id": "KslpUatzBW1M",
        "outputId": "e46e9889-8d58-40fd-aea2-03223044332d"
      },
      "source": [
        "spotify_df['track_name'].loc[spotify_df['danceability']<0.4]\n"
      ],
      "execution_count": null,
      "outputs": [
        {
          "output_type": "execute_result",
          "data": {
            "text/plain": [
              "Series([], Name: track_name, dtype: object)"
            ]
          },
          "metadata": {},
          "execution_count": 73
        }
      ]
    },
    {
      "cell_type": "markdown",
      "metadata": {
        "id": "9p7SSOGyq-o-"
      },
      "source": [
        "In the initial DataFrame there is 1 track with danceability <0.4, but after treating the outliers there is 0 tracks."
      ]
    },
    {
      "cell_type": "markdown",
      "metadata": {
        "id": "9sr1VLTZBhqK"
      },
      "source": [
        "- Which tracks have their loudness above -5?"
      ]
    },
    {
      "cell_type": "code",
      "metadata": {
        "colab": {
          "base_uri": "https://localhost:8080/"
        },
        "id": "aiZWgd7pBiAf",
        "outputId": "0677bf12-0f53-4181-dd59-8530a0042161"
      },
      "source": [
        "spotify_df['track_name'].loc[spotify_df['loudness']>(-5)].to_list()"
      ],
      "execution_count": null,
      "outputs": [
        {
          "output_type": "execute_result",
          "data": {
            "text/plain": [
              "[\"Don't Start Now\",\n",
              " 'Watermelon Sugar',\n",
              " 'Tusa',\n",
              " 'Circles',\n",
              " 'Before You Go',\n",
              " 'Say So',\n",
              " 'Adore You',\n",
              " 'Mood (feat. iann dior)',\n",
              " 'Break My Heart',\n",
              " 'Dynamite',\n",
              " 'Supalonely (feat. Gus Dapperton)',\n",
              " 'Rain On Me (with Ariana Grande)',\n",
              " 'Sunflower - Spider-Man: Into the Spider-Verse',\n",
              " 'Hawái',\n",
              " 'Ride It',\n",
              " 'goosebumps',\n",
              " 'Safaera',\n",
              " 'Physical',\n",
              " 'SICKO MODE']"
            ]
          },
          "metadata": {},
          "execution_count": 74
        }
      ]
    },
    {
      "cell_type": "markdown",
      "metadata": {
        "id": "jmv9_7_IBn1V"
      },
      "source": [
        "- Which tracks have their loudness below -8?"
      ]
    },
    {
      "cell_type": "code",
      "metadata": {
        "colab": {
          "base_uri": "https://localhost:8080/"
        },
        "id": "AeP0u10nBoXj",
        "outputId": "c0965b47-e3ce-4d20-bc75-e25a46a7c270"
      },
      "source": [
        "spotify_df['track_name'].loc[spotify_df['loudness']<(-8)].to_list()"
      ],
      "execution_count": null,
      "outputs": [
        {
          "output_type": "execute_result",
          "data": {
            "text/plain": [
              "['death bed (coffee for your head)',\n",
              " 'Falling',\n",
              " 'Toosie Slide',\n",
              " 'Savage Love (Laxed - Siren Beat)',\n",
              " 'everything i wanted',\n",
              " 'bad guy',\n",
              " 'HIGHEST IN THE ROOM',\n",
              " 'lovely (with Khalid)',\n",
              " 'If the World Was Ending - feat. Julia Michaels']"
            ]
          },
          "metadata": {},
          "execution_count": 75
        }
      ]
    },
    {
      "cell_type": "markdown",
      "metadata": {
        "id": "rSet-OFGBt2k"
      },
      "source": [
        "- Which track is the longest?"
      ]
    },
    {
      "cell_type": "code",
      "metadata": {
        "colab": {
          "base_uri": "https://localhost:8080/",
          "height": 35
        },
        "id": "F4Z7T-pgBuK0",
        "outputId": "18228f9f-7d8d-4500-8c9b-6371bec26bb9"
      },
      "source": [
        "longest_song = spotify_df['track_name'].iloc[spotify_df['duration_ms'].idxmax()]\n",
        "longest_song"
      ],
      "execution_count": null,
      "outputs": [
        {
          "output_type": "execute_result",
          "data": {
            "application/vnd.google.colaboratory.intrinsic+json": {
              "type": "string"
            },
            "text/plain": [
              "'SICKO MODE'"
            ]
          },
          "metadata": {},
          "execution_count": 76
        }
      ]
    },
    {
      "cell_type": "markdown",
      "metadata": {
        "id": "z4SgGshpBykA"
      },
      "source": [
        "- Which track is the shortest?"
      ]
    },
    {
      "cell_type": "code",
      "metadata": {
        "colab": {
          "base_uri": "https://localhost:8080/",
          "height": 35
        },
        "id": "eIuvMWpPBvg0",
        "outputId": "6eb31a4e-9448-45a1-8e31-ac434b90cbf6"
      },
      "source": [
        "shortest_song = spotify_df['track_name'].iloc[spotify_df['duration_ms'].idxmin()]\n",
        "shortest_song"
      ],
      "execution_count": null,
      "outputs": [
        {
          "output_type": "execute_result",
          "data": {
            "application/vnd.google.colaboratory.intrinsic+json": {
              "type": "string"
            },
            "text/plain": [
              "'Mood (feat. iann dior)'"
            ]
          },
          "metadata": {},
          "execution_count": 77
        }
      ]
    },
    {
      "cell_type": "markdown",
      "metadata": {
        "id": "BTJ5Jo0VB1Q_"
      },
      "source": [
        "- Which genre is the most popular?"
      ]
    },
    {
      "cell_type": "code",
      "metadata": {
        "colab": {
          "base_uri": "https://localhost:8080/",
          "height": 35
        },
        "id": "JmFSaN2EB23e",
        "outputId": "d34f130a-f6dd-42e8-ec11-a74e25445d74"
      },
      "source": [
        "most_popular_genre = spotify_df['genre'].value_counts().idxmax()\n",
        "most_popular_genre"
      ],
      "execution_count": null,
      "outputs": [
        {
          "output_type": "execute_result",
          "data": {
            "application/vnd.google.colaboratory.intrinsic+json": {
              "type": "string"
            },
            "text/plain": [
              "'Pop'"
            ]
          },
          "metadata": {},
          "execution_count": 78
        }
      ]
    },
    {
      "cell_type": "markdown",
      "metadata": {
        "id": "UuI8KUoYB6RK"
      },
      "source": [
        "- Which genres have just one song on the top 50?"
      ]
    },
    {
      "cell_type": "code",
      "metadata": {
        "colab": {
          "base_uri": "https://localhost:8080/"
        },
        "id": "j8dHldgQB6jx",
        "outputId": "a539f1c0-fd96-4f8e-8aa3-f1ff0956b75a"
      },
      "source": [
        "one_song_genres = spotify_df['genre'].value_counts().loc[lambda x: x==1].index\n",
        "one_song_genres.to_list()"
      ],
      "execution_count": null,
      "outputs": [
        {
          "output_type": "execute_result",
          "data": {
            "text/plain": [
              "['Pop rap',\n",
              " 'Pop/Soft Rock',\n",
              " 'Hip-Hop/Trap',\n",
              " 'Alternative/reggaeton/experimental',\n",
              " 'Dance-pop/Disco',\n",
              " 'Disco-pop',\n",
              " 'Chamber pop',\n",
              " 'Dreampop/Hip-Hop/R&B',\n",
              " 'R&B/Hip-Hop alternative',\n",
              " 'Nu-disco']"
            ]
          },
          "metadata": {},
          "execution_count": 79
        }
      ]
    },
    {
      "cell_type": "markdown",
      "metadata": {
        "id": "Ygj_qpOKCAJb"
      },
      "source": [
        "- How many genres in total are represented in the top 50?"
      ]
    },
    {
      "cell_type": "code",
      "metadata": {
        "colab": {
          "base_uri": "https://localhost:8080/"
        },
        "id": "n9gjZL_CCAdY",
        "outputId": "db71b9c0-e855-4d1f-a765-76e2843a34f2"
      },
      "source": [
        "all_genres = spotify_df['genre'].value_counts().index.nunique()\n",
        "all_genres"
      ],
      "execution_count": null,
      "outputs": [
        {
          "output_type": "execute_result",
          "data": {
            "text/plain": [
              "16"
            ]
          },
          "metadata": {},
          "execution_count": 80
        }
      ]
    },
    {
      "cell_type": "markdown",
      "metadata": {
        "id": "rSCfgLObCGZu"
      },
      "source": [
        "- Which features are strongly positively correlated?"
      ]
    },
    {
      "cell_type": "code",
      "metadata": {
        "colab": {
          "base_uri": "https://localhost:8080/",
          "height": 346
        },
        "id": "K6Kt2wyiCH6h",
        "outputId": "423076db-31c9-46c0-c427-7be59dbd3810"
      },
      "source": [
        "correlations = spotify_df.corr()\n",
        "sns.heatmap(correlations, vmin=-0.6, vmax=1, center=0, cmap=\"YlGnBu\")\n",
        "plt.show()"
      ],
      "execution_count": null,
      "outputs": [
        {
          "output_type": "display_data",
          "data": {
            "image/png": "[encoded data removed]",
            "text/plain": [
              "<Figure size 432x288 with 2 Axes>"
            ]
          },
          "metadata": {
            "needs_background": "light"
          }
        }
      ]
    },
    {
      "cell_type": "markdown",
      "metadata": {
        "id": "HMD6TE6rrSa-"
      },
      "source": [
        "Correlations heatmap"
      ]
    },
    {
      "cell_type": "code",
      "metadata": {
        "colab": {
          "base_uri": "https://localhost:8080/"
        },
        "id": "iDEDA-OzCNZw",
        "outputId": "6691a843-1a45-45ed-a7e2-3e3a1aa8c2e5"
      },
      "source": [
        "corr_matrix = spotify_df[relevant_columns].corr()\n",
        "corr_series = (corr_matrix.where(np.triu(np.ones(corr_matrix.shape), k=1)\n",
        "              .astype(bool)).stack().sort_values(ascending=False))\n",
        "strongly_positively_corr = corr_series.idxmax()\n",
        "strongly_positively_corr"
      ],
      "execution_count": null,
      "outputs": [
        {
          "output_type": "execute_result",
          "data": {
            "text/plain": [
              "('energy', 'loudness')"
            ]
          },
          "metadata": {},
          "execution_count": 82
        }
      ]
    },
    {
      "cell_type": "markdown",
      "metadata": {
        "id": "xQyxpkdVt52z"
      },
      "source": [
        "Energy and loudness are strongly positively correlated."
      ]
    },
    {
      "cell_type": "markdown",
      "metadata": {
        "id": "sIh5GTjZC5F4"
      },
      "source": [
        "- Which features are strongly negatively correlated?"
      ]
    },
    {
      "cell_type": "code",
      "metadata": {
        "colab": {
          "base_uri": "https://localhost:8080/"
        },
        "id": "0eCaZ3oFCcOR",
        "outputId": "5f28924c-9e76-491e-b509-cbd571986668"
      },
      "source": [
        "strongly_negatively_corr = corr_series.idxmin()\n",
        "strongly_negatively_corr"
      ],
      "execution_count": null,
      "outputs": [
        {
          "output_type": "execute_result",
          "data": {
            "text/plain": [
              "('energy', 'acousticness')"
            ]
          },
          "metadata": {},
          "execution_count": 83
        }
      ]
    },
    {
      "cell_type": "markdown",
      "metadata": {
        "id": "xaDjcm01uCl4"
      },
      "source": [
        "Energy and acousticness are strongly negatively correlated."
      ]
    },
    {
      "cell_type": "markdown",
      "metadata": {
        "id": "kA0JVqvfDNQf"
      },
      "source": [
        "- Which features are not correlated?"
      ]
    },
    {
      "cell_type": "code",
      "metadata": {
        "colab": {
          "base_uri": "https://localhost:8080/"
        },
        "id": "WzeQgjU4DN1C",
        "outputId": "d4c59de2-f12c-4c9c-e7ee-f3888f7091a6"
      },
      "source": [
        "for index, corr_value in corr_series.items():\n",
        "    if corr_value<0.2 and corr_value>-0.2:\n",
        "        print(index)"
      ],
      "execution_count": null,
      "outputs": [
        {
          "output_type": "stream",
          "name": "stdout",
          "text": [
            "('speechiness', 'tempo')\n",
            "('danceability', 'tempo')\n",
            "('energy', 'liveness')\n",
            "('danceability', 'loudness')\n",
            "('loudness', 'tempo')\n",
            "('energy', 'danceability')\n",
            "('energy', 'speechiness')\n",
            "('energy', 'tempo')\n",
            "('speechiness', 'valence')\n",
            "('valence', 'tempo')\n",
            "('liveness', 'tempo')\n",
            "('loudness', 'speechiness')\n",
            "('loudness', 'liveness')\n",
            "('liveness', 'valence')\n",
            "('acousticness', 'speechiness')\n",
            "('speechiness', 'liveness')\n",
            "('danceability', 'liveness')\n",
            "('acousticness', 'liveness')\n"
          ]
        }
      ]
    },
    {
      "cell_type": "markdown",
      "metadata": {
        "id": "snOpBDJ6uI4E"
      },
      "source": [
        "These are the features which correlation value is lower than 0.2 and higher than -0.2 (close to 0)."
      ]
    },
    {
      "cell_type": "markdown",
      "metadata": {
        "id": "2mEMVjwqDswZ"
      },
      "source": [
        "- How does the danceability score compare between Pop, Hip-Hop/Rap, Dance/Electronic, and Alternative/Indie genres?"
      ]
    },
    {
      "cell_type": "code",
      "metadata": {
        "colab": {
          "base_uri": "https://localhost:8080/",
          "height": 203
        },
        "id": "h2pgWcj5DtHm",
        "outputId": "2bbeed6f-8f5d-4fa6-fdd2-941b2bdc028e"
      },
      "source": [
        "selected_genres = ['Pop','Hip-Hop/Rap','Dance/Electronic','Alternative/Indie']\n",
        "selected_genres_df = spotify_df[spotify_df['genre'].isin(selected_genres)]\n",
        "danceability_scores = (selected_genres_df['danceability']\n",
        "                       .groupby(selected_genres_df['genre']).mean().to_frame())\n",
        "danceability_scores"
      ],
      "execution_count": null,
      "outputs": [
        {
          "output_type": "execute_result",
          "data": {
            "text/html": [
              "<div>\n",
              "<style scoped>\n",
              "    .dataframe tbody tr th:only-of-type {\n",
              "        vertical-align: middle;\n",
              "    }\n",
              "\n",
              "    .dataframe tbody tr th {\n",
              "        vertical-align: top;\n",
              "    }\n",
              "\n",
              "    .dataframe thead th {\n",
              "        text-align: right;\n",
              "    }\n",
              "</style>\n",
              "<table border=\"1\" class=\"dataframe\">\n",
              "  <thead>\n",
              "    <tr style=\"text-align: right;\">\n",
              "      <th></th>\n",
              "      <th>danceability</th>\n",
              "    </tr>\n",
              "    <tr>\n",
              "      <th>genre</th>\n",
              "      <th></th>\n",
              "    </tr>\n",
              "  </thead>\n",
              "  <tbody>\n",
              "    <tr>\n",
              "      <th>Alternative/Indie</th>\n",
              "      <td>0.675425</td>\n",
              "    </tr>\n",
              "    <tr>\n",
              "      <th>Dance/Electronic</th>\n",
              "      <td>0.755000</td>\n",
              "    </tr>\n",
              "    <tr>\n",
              "      <th>Hip-Hop/Rap</th>\n",
              "      <td>0.765538</td>\n",
              "    </tr>\n",
              "    <tr>\n",
              "      <th>Pop</th>\n",
              "      <td>0.681121</td>\n",
              "    </tr>\n",
              "  </tbody>\n",
              "</table>\n",
              "</div>"
            ],
            "text/plain": [
              "                   danceability\n",
              "genre                          \n",
              "Alternative/Indie      0.675425\n",
              "Dance/Electronic       0.755000\n",
              "Hip-Hop/Rap            0.765538\n",
              "Pop                    0.681121"
            ]
          },
          "metadata": {},
          "execution_count": 85
        }
      ]
    },
    {
      "cell_type": "markdown",
      "metadata": {
        "id": "miONjmuDul8r"
      },
      "source": [
        "DataFrame of danceability scores comparison. \n",
        "Hip-Hop/Rap has the highest danceability score and Alternative/Indie has the lowest."
      ]
    },
    {
      "cell_type": "markdown",
      "metadata": {
        "id": "tdHskOKdEG2i"
      },
      "source": [
        "- How does the loudness score compare between Pop, Hip-Hop/Rap, Dance/Electronic, and Alternative/Indie genres?"
      ]
    },
    {
      "cell_type": "code",
      "metadata": {
        "colab": {
          "base_uri": "https://localhost:8080/",
          "height": 203
        },
        "id": "WEhOLZNZD6u-",
        "outputId": "68ff24d0-1154-45b8-f92d-cfe3de52544d"
      },
      "source": [
        "loudness_scores = (selected_genres_df['loudness']\n",
        "                   .groupby(selected_genres_df['genre']).mean().to_frame())\n",
        "loudness_scores"
      ],
      "execution_count": null,
      "outputs": [
        {
          "output_type": "execute_result",
          "data": {
            "text/html": [
              "<div>\n",
              "<style scoped>\n",
              "    .dataframe tbody tr th:only-of-type {\n",
              "        vertical-align: middle;\n",
              "    }\n",
              "\n",
              "    .dataframe tbody tr th {\n",
              "        vertical-align: top;\n",
              "    }\n",
              "\n",
              "    .dataframe thead th {\n",
              "        text-align: right;\n",
              "    }\n",
              "</style>\n",
              "<table border=\"1\" class=\"dataframe\">\n",
              "  <thead>\n",
              "    <tr style=\"text-align: right;\">\n",
              "      <th></th>\n",
              "      <th>loudness</th>\n",
              "    </tr>\n",
              "    <tr>\n",
              "      <th>genre</th>\n",
              "      <th></th>\n",
              "    </tr>\n",
              "  </thead>\n",
              "  <tbody>\n",
              "    <tr>\n",
              "      <th>Alternative/Indie</th>\n",
              "      <td>-5.421000</td>\n",
              "    </tr>\n",
              "    <tr>\n",
              "      <th>Dance/Electronic</th>\n",
              "      <td>-5.338000</td>\n",
              "    </tr>\n",
              "    <tr>\n",
              "      <th>Hip-Hop/Rap</th>\n",
              "      <td>-6.917846</td>\n",
              "    </tr>\n",
              "    <tr>\n",
              "      <th>Pop</th>\n",
              "      <td>-6.054393</td>\n",
              "    </tr>\n",
              "  </tbody>\n",
              "</table>\n",
              "</div>"
            ],
            "text/plain": [
              "                   loudness\n",
              "genre                      \n",
              "Alternative/Indie -5.421000\n",
              "Dance/Electronic  -5.338000\n",
              "Hip-Hop/Rap       -6.917846\n",
              "Pop               -6.054393"
            ]
          },
          "metadata": {},
          "execution_count": 86
        }
      ]
    },
    {
      "cell_type": "markdown",
      "metadata": {
        "id": "ZhuX9-gou7ds"
      },
      "source": [
        "Loudness scores DataFrame. Hip-Hop/Rap has the lowest loudness score and Dance/Electronic has the highest score."
      ]
    },
    {
      "cell_type": "markdown",
      "metadata": {
        "id": "NlSv1JAxSDx7"
      },
      "source": [
        "- How does the acousticness score compare between Pop, Hip-Hop/Rap, Dance/Electronic, and Alternative/Indie genres?"
      ]
    },
    {
      "cell_type": "code",
      "metadata": {
        "id": "V64Ys_ebSFRm",
        "colab": {
          "base_uri": "https://localhost:8080/",
          "height": 203
        },
        "outputId": "6be38bac-d181-45ff-bad3-8a02fb23efac"
      },
      "source": [
        "acousticness_scores = (selected_genres_df['acousticness']\n",
        "                       .groupby(selected_genres_df['genre']).mean().to_frame())\n",
        "acousticness_scores"
      ],
      "execution_count": null,
      "outputs": [
        {
          "output_type": "execute_result",
          "data": {
            "text/html": [
              "<div>\n",
              "<style scoped>\n",
              "    .dataframe tbody tr th:only-of-type {\n",
              "        vertical-align: middle;\n",
              "    }\n",
              "\n",
              "    .dataframe tbody tr th {\n",
              "        vertical-align: top;\n",
              "    }\n",
              "\n",
              "    .dataframe thead th {\n",
              "        text-align: right;\n",
              "    }\n",
              "</style>\n",
              "<table border=\"1\" class=\"dataframe\">\n",
              "  <thead>\n",
              "    <tr style=\"text-align: right;\">\n",
              "      <th></th>\n",
              "      <th>acousticness</th>\n",
              "    </tr>\n",
              "    <tr>\n",
              "      <th>genre</th>\n",
              "      <th></th>\n",
              "    </tr>\n",
              "  </thead>\n",
              "  <tbody>\n",
              "    <tr>\n",
              "      <th>Alternative/Indie</th>\n",
              "      <td>0.590250</td>\n",
              "    </tr>\n",
              "    <tr>\n",
              "      <th>Dance/Electronic</th>\n",
              "      <td>0.099440</td>\n",
              "    </tr>\n",
              "    <tr>\n",
              "      <th>Hip-Hop/Rap</th>\n",
              "      <td>0.188895</td>\n",
              "    </tr>\n",
              "    <tr>\n",
              "      <th>Pop</th>\n",
              "      <td>0.294843</td>\n",
              "    </tr>\n",
              "  </tbody>\n",
              "</table>\n",
              "</div>"
            ],
            "text/plain": [
              "                   acousticness\n",
              "genre                          \n",
              "Alternative/Indie      0.590250\n",
              "Dance/Electronic       0.099440\n",
              "Hip-Hop/Rap            0.188895\n",
              "Pop                    0.294843"
            ]
          },
          "metadata": {},
          "execution_count": 87
        }
      ]
    },
    {
      "cell_type": "markdown",
      "metadata": {
        "id": "JbAeo4ymvdDM"
      },
      "source": [
        "Acousticness score DataFrame. Alternative/Indie has the highest acousticness score and Hip-Hop/Rap has the lowest."
      ]
    },
    {
      "cell_type": "markdown",
      "metadata": {
        "id": "zLjbj52rvzx0"
      },
      "source": [
        "### What could be improved\n",
        "- Histograms for the last 3 score comparisons so it is more clear how the scores compare to each other.\n",
        "- Probably code could be written more efficiently with less functions.\n",
        "- Not sure if my method of dealing with the outliers is a correct way to do it, because in the \"Which tracks have a danceability score below 0.4?\" question track with score below 0.4 disappears.\n",
        "- Not sure what is the value of correlation for two columns to not be correlated at all (I put 0.2 and -0.2)."
      ]
    }
  ]
}