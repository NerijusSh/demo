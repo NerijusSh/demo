{
  "cells": [
    {
      "cell_type": "markdown",
      "id": "9b4c42a6-461d-40ab-9e1a-647ba5e18859",
      "metadata": {
        "id": "9b4c42a6-461d-40ab-9e1a-647ba5e18859"
      },
      "source": [
        "# Module 2: Data Analysis"
      ]
    },
    {
      "cell_type": "markdown",
      "id": "b53d035d-fbaa-4280-af1d-38c0381e1678",
      "metadata": {
        "id": "b53d035d-fbaa-4280-af1d-38c0381e1678"
      },
      "source": [
        "## Sprint 2: Inferential Statistical Analysis"
      ]
    },
    {
      "cell_type": "markdown",
      "id": "cb5b6690-5353-401b-a511-6dd5f6e13d9d",
      "metadata": {
        "id": "cb5b6690-5353-401b-a511-6dd5f6e13d9d"
      },
      "source": [
        "## Part 5: Inferential Statistical Analysis of the Podcast Reviews\n"
      ]
    },
    {
      "cell_type": "markdown",
      "id": "509531ec-e5af-47bf-8356-b80b8515fb45",
      "metadata": {
        "id": "509531ec-e5af-47bf-8356-b80b8515fb45"
      },
      "source": [
        "## About this Part\n",
        "\n",
        "Congrats!\n",
        "You have reached the last Part of this Sprint.\n",
        "In this Part, you will put what you learned during this and the previous Sprints into practice.\n",
        "As the final assignment of this Sprint, you will analyse the Podcast Reviews Dataset.\n",
        "You will have to apply all that you have learned about Statistical Inference & SQL to complete this task.\n",
        "Our expectation is that you'll use your own judgement how to perform the analysis and how to select the most important avenues of statistical testing and exploration.\n",
        "You'll have to iteratively raise hypotheses and use your data analysis skills to get answers.\n",
        "\n",
        "P.S. we don't expect this project to be perfect - you will continue to improve your skills and there will be many projects for you to apply your newly gained skills in the future.\n",
        "For now just use what you have learned and try your best!\n",
        "\n",
        "## Objectives for this Part\n",
        "\n",
        "- Practice working with SQLite datasets.\n",
        "- Practice performing EDA.\n",
        "- Practice applying statistical inference procedures.\n",
        "- Practice visualizing data with Matplotlib & Seaborn.\n",
        "- Practice reading data, performing queries and filtering data using SQL and Pandas.\n",
        "\n",
        "## Requirements\n",
        "\n",
        "- Download the data from [Podcast Reviews Dataset](https://www.kaggle.com/thoughtvector/podcastreviews).\n",
        "- Load the data using SQLite and Pandas.\n",
        "- Perform exploratory data analysis. This should include creating statistical summaries and charts, testing for anomalies, checking for correlations and other relations between variables, and other EDA elements.\n",
        "- Perform statistical inference. This should include defining the target population, forming multiple statistical hypotheses and constructing confidence intervals, setting the significance levels, conducting z or t-tests for these hypotheses.\n",
        "- Create a Google Data Studio dashboard with at least three different types of charts.\n",
        "- Provide clear explanations in your notebook. Your explanations should inform the reader what you are trying to achieve, what results did you get, and what these results mean.\n",
        "- Provide suggestions about how your analysis can be improved.\n",
        "\n",
        "## Evaluation Criteria\n",
        "\n",
        "- Adherence to the requirements. How well did you meet the requirements?\n",
        "- Depth of your analysis. Did you just skim the surface or did you explored the dataset in depth?\n",
        "- Visualization quality. Did you use charts effectively to visualize patterns in the data? Are your visualizations properly labeled? Did you use colors effectively? Did you adhere to the principle of proportional ink?\n",
        "- Code quality. Was your code well-structure? Did you use the appropriate levels of abstraction? Did you remove commented out and unused code? Did you adhere to the PEP8?\n",
        "- Code performance. Did you use the suitable algorithms and data structures to solve the problems?\n",
        "\n",
        "## Correction\n",
        "\n",
        "During your project correction, you should present your project as if talking to a product manager and senior data analyst working in your team.\n",
        "You will have to find the right balance between explaining the business side and the technical aspects of your work.\n",
        "You can assume that both of your colleagues have a strong understanding of and are very interested in the business aspect of your project, so be sure to clearly explain what new insights you've found while analyzing the dataset and which directions look the most promising for further research.\n",
        "However, you should also spend time explaining the technical aspects of your work, especially the more complex or unconventional choices.\n",
        "\n",
        "During a correction, you may get asked questions that test your understanding of covered topics.\n",
        "\n",
        "- Explain how to perform a permutation procedure\n",
        "- What is the difference between a parameter and a statistic?\n",
        "- What is a confidence interval?\n",
        "- Why is it risky to assume a normal distribution?\n",
        "- Why do we need to have control groups, while doing A/B testing?\n",
        "\n"
      ]
    }
  ],
  "metadata": {
    "kernelspec": {
      "display_name": "Python 3",
      "language": "python",
      "name": "python3"
    },
    "language_info": {
      "codemirror_mode": {
        "name": "ipython",
        "version": 3
      },
      "file_extension": ".py",
      "mimetype": "text/x-python",
      "name": "python",
      "nbconvert_exporter": "python",
      "pygments_lexer": "ipython3",
      "version": "3.9.5"
    },
    "colab": {
      "name": "225.ipynb",
      "provenance": []
    }
  },
  "nbformat": 4,
  "nbformat_minor": 5
}